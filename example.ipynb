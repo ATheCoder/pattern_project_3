{
 "cells": [
  {
   "cell_type": "code",
   "execution_count": 35,
   "metadata": {},
   "outputs": [],
   "source": [
    "import torch\n",
    "from torchvision.datasets import CIFAR10\n",
    "from torch.utils.data import DataLoader\n",
    "from torchvision.transforms import Compose, ToTensor\n",
    "from torch import nn\n",
    "from torch.nn import functional as F\n",
    "from matplotlib import pyplot as plt\n",
    "from tqdm import tqdm"
   ]
  },
  {
   "attachments": {},
   "cell_type": "markdown",
   "metadata": {},
   "source": [
    "### Data Loading"
   ]
  },
  {
   "cell_type": "code",
   "execution_count": 36,
   "metadata": {},
   "outputs": [
    {
     "name": "stdout",
     "output_type": "stream",
     "text": [
      "Files already downloaded and verified\n",
      "Files already downloaded and verified\n"
     ]
    }
   ],
   "source": [
    "train_dataset = CIFAR10('./CIFAR10', download=True, transform=Compose([ToTensor()]), train=True)\n",
    "\n",
    "test_dataset = CIFAR10('./CIFAR10', download=True, transform=Compose([ToTensor()]), train=False)"
   ]
  },
  {
   "cell_type": "code",
   "execution_count": 37,
   "metadata": {},
   "outputs": [
    {
     "data": {
      "text/plain": [
       "torch.Size([3, 32, 32])"
      ]
     },
     "execution_count": 37,
     "metadata": {},
     "output_type": "execute_result"
    }
   ],
   "source": [
    "test_dataset[0][0].shape"
   ]
  },
  {
   "cell_type": "code",
   "execution_count": 38,
   "metadata": {},
   "outputs": [],
   "source": [
    "batch_size = 8192\n",
    "\n",
    "train_dl = DataLoader(train_dataset, batch_size=batch_size)\n",
    "\n",
    "test_dl = DataLoader(test_dataset, batch_size=batch_size)"
   ]
  },
  {
   "attachments": {},
   "cell_type": "markdown",
   "metadata": {},
   "source": [
    "### Metrics"
   ]
  },
  {
   "cell_type": "code",
   "execution_count": 59,
   "metadata": {},
   "outputs": [],
   "source": [
    "from sklearn.metrics import accuracy_score, precision_score, recall_score, f1_score, confusion_matrix\n",
    "\n",
    "def test_model(model):\n",
    "    test_x = torch.stack([d[0].to('cuda') for d in test_dataset])\n",
    "    test_y = [d[1] for d in test_dataset]\n",
    "    \n",
    "    logits = model(test_x)\n",
    "    \n",
    "    likelihoods = torch.softmax(logits, dim=1)\n",
    "    \n",
    "    predictions = torch.argmax(likelihoods, dim=-1)\n",
    "    \n",
    "    predictions = predictions.cpu().detach().numpy()\n",
    "    \n",
    "    valid_loss = F.cross_entropy(logits.to('cpu'), torch.Tensor(test_y).to(torch.long))\n",
    "    \n",
    "    precision = precision_score(test_y, predictions, average='micro')\n",
    "    \n",
    "    recall = recall_score(test_y, predictions, average='micro')\n",
    "    \n",
    "    f1 = f1_score(test_y, predictions, average='micro')\n",
    "    \n",
    "    c_m = confusion_matrix(test_y, predictions)\n",
    "    \n",
    "    print(f'Validation Loss: {valid_loss}')\n",
    "    print(f'Precision: {precision}')\n",
    "    print(f'Recall: {recall}')\n",
    "    print(f'F1 Score: {f1}')\n",
    "    print(f'Confusion Matrix: ', c_m) # TODO: Print the confusion Matrix Properly\n",
    "    "
   ]
  },
  {
   "attachments": {},
   "cell_type": "markdown",
   "metadata": {},
   "source": [
    "### MLP"
   ]
  },
  {
   "attachments": {},
   "cell_type": "markdown",
   "metadata": {},
   "source": [
    "#### MLP Definition"
   ]
  },
  {
   "cell_type": "code",
   "execution_count": 44,
   "metadata": {},
   "outputs": [],
   "source": [
    "class SimpleMLP(torch.nn.Module):\n",
    "    def __init__(self):\n",
    "        super().__init__()\n",
    "        \n",
    "        self.fc1 = nn.Linear(3 * 1024, 256)\n",
    "        \n",
    "        self.fc2 = nn.Linear(256, 32)\n",
    "        \n",
    "        self.fc3 = nn.Linear(32, 10)\n",
    "        \n",
    "    def forward(self, x):\n",
    "        x = self.fc1(x)\n",
    "        x = F.relu(x)\n",
    "        x = self.fc2(x)\n",
    "        x = F.relu(x)\n",
    "        x = self.fc3(x)\n",
    "        x = F.relu(x)\n",
    "        \n",
    "        return x\n",
    "    \n",
    "model = SimpleMLP()\n",
    "\n",
    "model = model.to('cuda')"
   ]
  },
  {
   "attachments": {},
   "cell_type": "markdown",
   "metadata": {},
   "source": [
    "#### MLP Training"
   ]
  },
  {
   "cell_type": "code",
   "execution_count": 54,
   "metadata": {},
   "outputs": [],
   "source": [
    "def trainer(model, is_cnn = False):\n",
    "    optm = torch.optim.Adam(model.parameters(), lr=0.0001)\n",
    "    \n",
    "    epochs = 32\n",
    "    losses = []\n",
    "    \n",
    "    loss_acc = 0\n",
    "    loss_means = []\n",
    "\n",
    "    for epoch in tqdm(range(1, epochs + 1)): # TODO: Add TQDM\n",
    "        for s in train_dl:\n",
    "            x, y = s\n",
    "            x = x.to('cuda')\n",
    "            y = y.to('cuda')\n",
    "            optm.zero_grad()\n",
    "            \n",
    "            if is_cnn is False:\n",
    "                result = model(torch.flatten(x, start_dim=1))\n",
    "            \n",
    "            else:\n",
    "                print(x.shape)\n",
    "                result = model(x)\n",
    "            \n",
    "            loss = F.cross_entropy(result, y)\n",
    "            \n",
    "            loss.backward()\n",
    "            \n",
    "            optm.step()\n",
    "            \n",
    "            losses.append(loss.item())\n",
    "            \n",
    "            loss_acc += loss\n",
    "            loss_means.append((loss_acc / epoch).item())\n",
    "            \n",
    "\n",
    "    return (losses, loss_means)"
   ]
  },
  {
   "cell_type": "code",
   "execution_count": 46,
   "metadata": {},
   "outputs": [
    {
     "name": "stderr",
     "output_type": "stream",
     "text": [
      "100%|██████████| 256/256 [07:42<00:00,  1.81s/it]\n"
     ]
    }
   ],
   "source": [
    "losses, loss_means = trainer(model)"
   ]
  },
  {
   "cell_type": "code",
   "execution_count": 20,
   "metadata": {},
   "outputs": [],
   "source": [
    "def plot_losses(losses):\n",
    "    x = range(1, len(losses) + 1)\n",
    "    y = losses\n",
    "    \n",
    "    plt.plot(x, y)"
   ]
  },
  {
   "cell_type": "code",
   "execution_count": 47,
   "metadata": {},
   "outputs": [
    {
     "data": {
      "image/png": "[encoded data removed]",
      "text/plain": [
       "<Figure size 640x480 with 1 Axes>"
      ]
     },
     "metadata": {},
     "output_type": "display_data"
    }
   ],
   "source": [
    "plot_losses(losses)"
   ]
  },
  {
   "cell_type": "code",
   "execution_count": 48,
   "metadata": {},
   "outputs": [
    {
     "name": "stdout",
     "output_type": "stream",
     "text": [
      "Validation Loss: 1.6067991256713867\n",
      "Precision: 0.4472\n",
      "Recall: 0.4472\n",
      "F1 Score: 0.4472\n",
      "Confusion Matrix:  [[565  44  79  29  33  25   0  38 135  52]\n",
      " [ 44 585  15  31  14  33   0  34  69 175]\n",
      " [ 93  36 402  96 133 108   0  84  29  19]\n",
      " [ 32  32  94 365  63 244   0  71  33  66]\n",
      " [ 75  18 181  85 405  75   0 111  30  20]\n",
      " [ 31  31 106 216  80 375   0  89  27  45]\n",
      " [ 18  33 191 244 232 168   0  58  23  33]\n",
      " [ 51  28  54  60  78  88   0 570  16  55]\n",
      " [117  69  16  29  15  34   0  20 631  69]\n",
      " [ 52 171  11  36  21  30   0  44  61 574]]\n"
     ]
    }
   ],
   "source": [
    "test_model(model)"
   ]
  },
  {
   "attachments": {},
   "cell_type": "markdown",
   "metadata": {},
   "source": [
    "### CNN Model"
   ]
  },
  {
   "attachments": {},
   "cell_type": "markdown",
   "metadata": {},
   "source": [
    "#### Model Definition"
   ]
  },
  {
   "cell_type": "code",
   "execution_count": 56,
   "metadata": {},
   "outputs": [],
   "source": [
    "class SimpleCNN(nn.Module):\n",
    "    def __init__(self):\n",
    "        super().__init__()\n",
    "        \n",
    "        self.conv1 = nn.Conv2d(3, 32, (3, 3), stride=2)\n",
    "        self.pool = nn.MaxPool2d((2, 2), stride=1)\n",
    "        self.conv2 = nn.Conv2d(32, 4, (3, 3), stride=2)\n",
    "        \n",
    "        self.mlp = nn.Sequential(nn.Linear(144, 10), nn.ReLU())\n",
    "    \n",
    "    def forward(self, x):\n",
    "        x = self.conv1(x)\n",
    "        x = self.pool(x)\n",
    "        x = self.conv2(x)\n",
    "        x = torch.flatten(x, start_dim=1)\n",
    "        x = self.mlp(x)\n",
    "        \n",
    "        return x\n",
    "    \n",
    "model = SimpleCNN()\n",
    "model = model.to('cuda')"
   ]
  },
  {
   "cell_type": "code",
   "execution_count": 57,
   "metadata": {},
   "outputs": [
    {
     "name": "stderr",
     "output_type": "stream",
     "text": [
      "  0%|          | 0/32 [00:00<?, ?it/s]"
     ]
    },
    {
     "name": "stdout",
     "output_type": "stream",
     "text": [
      "torch.Size([8192, 3, 32, 32])\n",
      "torch.Size([8192, 3, 32, 32])\n",
      "torch.Size([8192, 3, 32, 32])\n",
      "torch.Size([8192, 3, 32, 32])\n",
      "torch.Size([8192, 3, 32, 32])\n"
     ]
    },
    {
     "name": "stderr",
     "output_type": "stream",
     "text": [
      "  3%|▎         | 1/32 [00:01<01:00,  1.96s/it]"
     ]
    },
    {
     "name": "stdout",
     "output_type": "stream",
     "text": [
      "torch.Size([8192, 3, 32, 32])\n",
      "torch.Size([848, 3, 32, 32])\n",
      "torch.Size([8192, 3, 32, 32])\n",
      "torch.Size([8192, 3, 32, 32])\n",
      "torch.Size([8192, 3, 32, 32])\n",
      "torch.Size([8192, 3, 32, 32])\n",
      "torch.Size([8192, 3, 32, 32])\n"
     ]
    },
    {
     "name": "stderr",
     "output_type": "stream",
     "text": [
      "  6%|▋         | 2/32 [00:03<00:56,  1.88s/it]"
     ]
    },
    {
     "name": "stdout",
     "output_type": "stream",
     "text": [
      "torch.Size([8192, 3, 32, 32])\n",
      "torch.Size([848, 3, 32, 32])\n",
      "torch.Size([8192, 3, 32, 32])\n",
      "torch.Size([8192, 3, 32, 32])\n",
      "torch.Size([8192, 3, 32, 32])\n",
      "torch.Size([8192, 3, 32, 32])\n",
      "torch.Size([8192, 3, 32, 32])\n"
     ]
    },
    {
     "name": "stderr",
     "output_type": "stream",
     "text": [
      "  9%|▉         | 3/32 [00:05<00:54,  1.87s/it]"
     ]
    },
    {
     "name": "stdout",
     "output_type": "stream",
     "text": [
      "torch.Size([8192, 3, 32, 32])\n",
      "torch.Size([848, 3, 32, 32])\n",
      "torch.Size([8192, 3, 32, 32])\n",
      "torch.Size([8192, 3, 32, 32])\n",
      "torch.Size([8192, 3, 32, 32])\n",
      "torch.Size([8192, 3, 32, 32])\n",
      "torch.Size([8192, 3, 32, 32])\n"
     ]
    },
    {
     "name": "stderr",
     "output_type": "stream",
     "text": [
      " 12%|█▎        | 4/32 [00:07<00:51,  1.86s/it]"
     ]
    },
    {
     "name": "stdout",
     "output_type": "stream",
     "text": [
      "torch.Size([8192, 3, 32, 32])\n",
      "torch.Size([848, 3, 32, 32])\n",
      "torch.Size([8192, 3, 32, 32])\n",
      "torch.Size([8192, 3, 32, 32])\n",
      "torch.Size([8192, 3, 32, 32])\n",
      "torch.Size([8192, 3, 32, 32])\n",
      "torch.Size([8192, 3, 32, 32])\n"
     ]
    },
    {
     "name": "stderr",
     "output_type": "stream",
     "text": [
      " 16%|█▌        | 5/32 [00:09<00:49,  1.85s/it]"
     ]
    },
    {
     "name": "stdout",
     "output_type": "stream",
     "text": [
      "torch.Size([8192, 3, 32, 32])\n",
      "torch.Size([848, 3, 32, 32])\n",
      "torch.Size([8192, 3, 32, 32])\n",
      "torch.Size([8192, 3, 32, 32])\n",
      "torch.Size([8192, 3, 32, 32])\n",
      "torch.Size([8192, 3, 32, 32])\n",
      "torch.Size([8192, 3, 32, 32])\n"
     ]
    },
    {
     "name": "stderr",
     "output_type": "stream",
     "text": [
      " 19%|█▉        | 6/32 [00:11<00:48,  1.85s/it]"
     ]
    },
    {
     "name": "stdout",
     "output_type": "stream",
     "text": [
      "torch.Size([8192, 3, 32, 32])\n",
      "torch.Size([848, 3, 32, 32])\n",
      "torch.Size([8192, 3, 32, 32])\n",
      "torch.Size([8192, 3, 32, 32])\n",
      "torch.Size([8192, 3, 32, 32])\n",
      "torch.Size([8192, 3, 32, 32])\n",
      "torch.Size([8192, 3, 32, 32])\n"
     ]
    },
    {
     "name": "stderr",
     "output_type": "stream",
     "text": [
      " 22%|██▏       | 7/32 [00:12<00:46,  1.84s/it]"
     ]
    },
    {
     "name": "stdout",
     "output_type": "stream",
     "text": [
      "torch.Size([8192, 3, 32, 32])\n",
      "torch.Size([848, 3, 32, 32])\n",
      "torch.Size([8192, 3, 32, 32])\n",
      "torch.Size([8192, 3, 32, 32])\n",
      "torch.Size([8192, 3, 32, 32])\n",
      "torch.Size([8192, 3, 32, 32])\n",
      "torch.Size([8192, 3, 32, 32])\n"
     ]
    },
    {
     "name": "stderr",
     "output_type": "stream",
     "text": [
      " 25%|██▌       | 8/32 [00:14<00:44,  1.84s/it]"
     ]
    },
    {
     "name": "stdout",
     "output_type": "stream",
     "text": [
      "torch.Size([8192, 3, 32, 32])\n",
      "torch.Size([848, 3, 32, 32])\n",
      "torch.Size([8192, 3, 32, 32])\n",
      "torch.Size([8192, 3, 32, 32])\n",
      "torch.Size([8192, 3, 32, 32])\n",
      "torch.Size([8192, 3, 32, 32])\n",
      "torch.Size([8192, 3, 32, 32])\n"
     ]
    },
    {
     "name": "stderr",
     "output_type": "stream",
     "text": [
      " 28%|██▊       | 9/32 [00:16<00:42,  1.83s/it]"
     ]
    },
    {
     "name": "stdout",
     "output_type": "stream",
     "text": [
      "torch.Size([8192, 3, 32, 32])\n",
      "torch.Size([848, 3, 32, 32])\n",
      "torch.Size([8192, 3, 32, 32])\n",
      "torch.Size([8192, 3, 32, 32])\n",
      "torch.Size([8192, 3, 32, 32])\n",
      "torch.Size([8192, 3, 32, 32])\n",
      "torch.Size([8192, 3, 32, 32])\n"
     ]
    },
    {
     "name": "stderr",
     "output_type": "stream",
     "text": [
      " 31%|███▏      | 10/32 [00:18<00:40,  1.84s/it]"
     ]
    },
    {
     "name": "stdout",
     "output_type": "stream",
     "text": [
      "torch.Size([8192, 3, 32, 32])\n",
      "torch.Size([848, 3, 32, 32])\n",
      "torch.Size([8192, 3, 32, 32])\n",
      "torch.Size([8192, 3, 32, 32])\n",
      "torch.Size([8192, 3, 32, 32])\n",
      "torch.Size([8192, 3, 32, 32])\n",
      "torch.Size([8192, 3, 32, 32])\n"
     ]
    },
    {
     "name": "stderr",
     "output_type": "stream",
     "text": [
      " 34%|███▍      | 11/32 [00:20<00:38,  1.83s/it]"
     ]
    },
    {
     "name": "stdout",
     "output_type": "stream",
     "text": [
      "torch.Size([8192, 3, 32, 32])\n",
      "torch.Size([848, 3, 32, 32])\n",
      "torch.Size([8192, 3, 32, 32])\n",
      "torch.Size([8192, 3, 32, 32])\n",
      "torch.Size([8192, 3, 32, 32])\n",
      "torch.Size([8192, 3, 32, 32])\n",
      "torch.Size([8192, 3, 32, 32])\n"
     ]
    },
    {
     "name": "stderr",
     "output_type": "stream",
     "text": [
      " 38%|███▊      | 12/32 [00:22<00:36,  1.83s/it]"
     ]
    },
    {
     "name": "stdout",
     "output_type": "stream",
     "text": [
      "torch.Size([8192, 3, 32, 32])\n",
      "torch.Size([848, 3, 32, 32])\n",
      "torch.Size([8192, 3, 32, 32])\n",
      "torch.Size([8192, 3, 32, 32])\n",
      "torch.Size([8192, 3, 32, 32])\n",
      "torch.Size([8192, 3, 32, 32])\n",
      "torch.Size([8192, 3, 32, 32])\n"
     ]
    },
    {
     "name": "stderr",
     "output_type": "stream",
     "text": [
      " 41%|████      | 13/32 [00:23<00:34,  1.82s/it]"
     ]
    },
    {
     "name": "stdout",
     "output_type": "stream",
     "text": [
      "torch.Size([8192, 3, 32, 32])\n",
      "torch.Size([848, 3, 32, 32])\n",
      "torch.Size([8192, 3, 32, 32])\n",
      "torch.Size([8192, 3, 32, 32])\n",
      "torch.Size([8192, 3, 32, 32])\n",
      "torch.Size([8192, 3, 32, 32])\n",
      "torch.Size([8192, 3, 32, 32])\n"
     ]
    },
    {
     "name": "stderr",
     "output_type": "stream",
     "text": [
      " 44%|████▍     | 14/32 [00:25<00:32,  1.82s/it]"
     ]
    },
    {
     "name": "stdout",
     "output_type": "stream",
     "text": [
      "torch.Size([8192, 3, 32, 32])\n",
      "torch.Size([848, 3, 32, 32])\n",
      "torch.Size([8192, 3, 32, 32])\n",
      "torch.Size([8192, 3, 32, 32])\n",
      "torch.Size([8192, 3, 32, 32])\n",
      "torch.Size([8192, 3, 32, 32])\n",
      "torch.Size([8192, 3, 32, 32])\n"
     ]
    },
    {
     "name": "stderr",
     "output_type": "stream",
     "text": [
      " 47%|████▋     | 15/32 [00:27<00:30,  1.82s/it]"
     ]
    },
    {
     "name": "stdout",
     "output_type": "stream",
     "text": [
      "torch.Size([8192, 3, 32, 32])\n",
      "torch.Size([848, 3, 32, 32])\n",
      "torch.Size([8192, 3, 32, 32])\n",
      "torch.Size([8192, 3, 32, 32])\n",
      "torch.Size([8192, 3, 32, 32])\n",
      "torch.Size([8192, 3, 32, 32])\n",
      "torch.Size([8192, 3, 32, 32])\n"
     ]
    },
    {
     "name": "stderr",
     "output_type": "stream",
     "text": [
      " 50%|█████     | 16/32 [00:29<00:28,  1.81s/it]"
     ]
    },
    {
     "name": "stdout",
     "output_type": "stream",
     "text": [
      "torch.Size([8192, 3, 32, 32])\n",
      "torch.Size([848, 3, 32, 32])\n",
      "torch.Size([8192, 3, 32, 32])\n",
      "torch.Size([8192, 3, 32, 32])\n",
      "torch.Size([8192, 3, 32, 32])\n",
      "torch.Size([8192, 3, 32, 32])\n",
      "torch.Size([8192, 3, 32, 32])\n"
     ]
    },
    {
     "name": "stderr",
     "output_type": "stream",
     "text": [
      " 53%|█████▎    | 17/32 [00:31<00:27,  1.81s/it]"
     ]
    },
    {
     "name": "stdout",
     "output_type": "stream",
     "text": [
      "torch.Size([8192, 3, 32, 32])\n",
      "torch.Size([848, 3, 32, 32])\n",
      "torch.Size([8192, 3, 32, 32])\n",
      "torch.Size([8192, 3, 32, 32])\n",
      "torch.Size([8192, 3, 32, 32])\n",
      "torch.Size([8192, 3, 32, 32])\n",
      "torch.Size([8192, 3, 32, 32])\n"
     ]
    },
    {
     "name": "stderr",
     "output_type": "stream",
     "text": [
      " 56%|█████▋    | 18/32 [00:32<00:25,  1.81s/it]"
     ]
    },
    {
     "name": "stdout",
     "output_type": "stream",
     "text": [
      "torch.Size([8192, 3, 32, 32])\n",
      "torch.Size([848, 3, 32, 32])\n",
      "torch.Size([8192, 3, 32, 32])\n",
      "torch.Size([8192, 3, 32, 32])\n",
      "torch.Size([8192, 3, 32, 32])\n",
      "torch.Size([8192, 3, 32, 32])\n",
      "torch.Size([8192, 3, 32, 32])\n"
     ]
    },
    {
     "name": "stderr",
     "output_type": "stream",
     "text": [
      " 59%|█████▉    | 19/32 [00:34<00:23,  1.81s/it]"
     ]
    },
    {
     "name": "stdout",
     "output_type": "stream",
     "text": [
      "torch.Size([8192, 3, 32, 32])\n",
      "torch.Size([848, 3, 32, 32])\n",
      "torch.Size([8192, 3, 32, 32])\n",
      "torch.Size([8192, 3, 32, 32])\n",
      "torch.Size([8192, 3, 32, 32])\n",
      "torch.Size([8192, 3, 32, 32])\n",
      "torch.Size([8192, 3, 32, 32])\n"
     ]
    },
    {
     "name": "stderr",
     "output_type": "stream",
     "text": [
      " 62%|██████▎   | 20/32 [00:36<00:21,  1.82s/it]"
     ]
    },
    {
     "name": "stdout",
     "output_type": "stream",
     "text": [
      "torch.Size([8192, 3, 32, 32])\n",
      "torch.Size([848, 3, 32, 32])\n",
      "torch.Size([8192, 3, 32, 32])\n",
      "torch.Size([8192, 3, 32, 32])\n",
      "torch.Size([8192, 3, 32, 32])\n",
      "torch.Size([8192, 3, 32, 32])\n",
      "torch.Size([8192, 3, 32, 32])\n"
     ]
    },
    {
     "name": "stderr",
     "output_type": "stream",
     "text": [
      " 66%|██████▌   | 21/32 [00:38<00:20,  1.82s/it]"
     ]
    },
    {
     "name": "stdout",
     "output_type": "stream",
     "text": [
      "torch.Size([8192, 3, 32, 32])\n",
      "torch.Size([848, 3, 32, 32])\n",
      "torch.Size([8192, 3, 32, 32])\n",
      "torch.Size([8192, 3, 32, 32])\n",
      "torch.Size([8192, 3, 32, 32])\n",
      "torch.Size([8192, 3, 32, 32])\n",
      "torch.Size([8192, 3, 32, 32])\n"
     ]
    },
    {
     "name": "stderr",
     "output_type": "stream",
     "text": [
      " 69%|██████▉   | 22/32 [00:40<00:18,  1.82s/it]"
     ]
    },
    {
     "name": "stdout",
     "output_type": "stream",
     "text": [
      "torch.Size([8192, 3, 32, 32])\n",
      "torch.Size([848, 3, 32, 32])\n",
      "torch.Size([8192, 3, 32, 32])\n",
      "torch.Size([8192, 3, 32, 32])\n",
      "torch.Size([8192, 3, 32, 32])\n",
      "torch.Size([8192, 3, 32, 32])\n",
      "torch.Size([8192, 3, 32, 32])\n"
     ]
    },
    {
     "name": "stderr",
     "output_type": "stream",
     "text": [
      " 72%|███████▏  | 23/32 [00:42<00:16,  1.82s/it]"
     ]
    },
    {
     "name": "stdout",
     "output_type": "stream",
     "text": [
      "torch.Size([8192, 3, 32, 32])\n",
      "torch.Size([848, 3, 32, 32])\n",
      "torch.Size([8192, 3, 32, 32])\n",
      "torch.Size([8192, 3, 32, 32])\n",
      "torch.Size([8192, 3, 32, 32])\n",
      "torch.Size([8192, 3, 32, 32])\n",
      "torch.Size([8192, 3, 32, 32])\n"
     ]
    },
    {
     "name": "stderr",
     "output_type": "stream",
     "text": [
      " 75%|███████▌  | 24/32 [00:43<00:14,  1.82s/it]"
     ]
    },
    {
     "name": "stdout",
     "output_type": "stream",
     "text": [
      "torch.Size([8192, 3, 32, 32])\n",
      "torch.Size([848, 3, 32, 32])\n",
      "torch.Size([8192, 3, 32, 32])\n",
      "torch.Size([8192, 3, 32, 32])\n",
      "torch.Size([8192, 3, 32, 32])\n",
      "torch.Size([8192, 3, 32, 32])\n",
      "torch.Size([8192, 3, 32, 32])\n"
     ]
    },
    {
     "name": "stderr",
     "output_type": "stream",
     "text": [
      " 78%|███████▊  | 25/32 [00:45<00:12,  1.82s/it]"
     ]
    },
    {
     "name": "stdout",
     "output_type": "stream",
     "text": [
      "torch.Size([8192, 3, 32, 32])\n",
      "torch.Size([848, 3, 32, 32])\n",
      "torch.Size([8192, 3, 32, 32])\n",
      "torch.Size([8192, 3, 32, 32])\n",
      "torch.Size([8192, 3, 32, 32])\n",
      "torch.Size([8192, 3, 32, 32])\n",
      "torch.Size([8192, 3, 32, 32])\n"
     ]
    },
    {
     "name": "stderr",
     "output_type": "stream",
     "text": [
      " 81%|████████▏ | 26/32 [00:47<00:10,  1.82s/it]"
     ]
    },
    {
     "name": "stdout",
     "output_type": "stream",
     "text": [
      "torch.Size([8192, 3, 32, 32])\n",
      "torch.Size([848, 3, 32, 32])\n",
      "torch.Size([8192, 3, 32, 32])\n",
      "torch.Size([8192, 3, 32, 32])\n",
      "torch.Size([8192, 3, 32, 32])\n",
      "torch.Size([8192, 3, 32, 32])\n",
      "torch.Size([8192, 3, 32, 32])\n"
     ]
    },
    {
     "name": "stderr",
     "output_type": "stream",
     "text": [
      " 84%|████████▍ | 27/32 [00:49<00:09,  1.82s/it]"
     ]
    },
    {
     "name": "stdout",
     "output_type": "stream",
     "text": [
      "torch.Size([8192, 3, 32, 32])\n",
      "torch.Size([848, 3, 32, 32])\n",
      "torch.Size([8192, 3, 32, 32])\n",
      "torch.Size([8192, 3, 32, 32])\n",
      "torch.Size([8192, 3, 32, 32])\n",
      "torch.Size([8192, 3, 32, 32])\n",
      "torch.Size([8192, 3, 32, 32])\n"
     ]
    },
    {
     "name": "stderr",
     "output_type": "stream",
     "text": [
      " 88%|████████▊ | 28/32 [00:51<00:07,  1.84s/it]"
     ]
    },
    {
     "name": "stdout",
     "output_type": "stream",
     "text": [
      "torch.Size([8192, 3, 32, 32])\n",
      "torch.Size([848, 3, 32, 32])\n",
      "torch.Size([8192, 3, 32, 32])\n",
      "torch.Size([8192, 3, 32, 32])\n",
      "torch.Size([8192, 3, 32, 32])\n",
      "torch.Size([8192, 3, 32, 32])\n",
      "torch.Size([8192, 3, 32, 32])\n"
     ]
    },
    {
     "name": "stderr",
     "output_type": "stream",
     "text": [
      " 91%|█████████ | 29/32 [00:53<00:05,  1.83s/it]"
     ]
    },
    {
     "name": "stdout",
     "output_type": "stream",
     "text": [
      "torch.Size([8192, 3, 32, 32])\n",
      "torch.Size([848, 3, 32, 32])\n",
      "torch.Size([8192, 3, 32, 32])\n",
      "torch.Size([8192, 3, 32, 32])\n",
      "torch.Size([8192, 3, 32, 32])\n",
      "torch.Size([8192, 3, 32, 32])\n",
      "torch.Size([8192, 3, 32, 32])\n"
     ]
    },
    {
     "name": "stderr",
     "output_type": "stream",
     "text": [
      " 94%|█████████▍| 30/32 [00:54<00:03,  1.83s/it]"
     ]
    },
    {
     "name": "stdout",
     "output_type": "stream",
     "text": [
      "torch.Size([8192, 3, 32, 32])\n",
      "torch.Size([848, 3, 32, 32])\n",
      "torch.Size([8192, 3, 32, 32])\n",
      "torch.Size([8192, 3, 32, 32])\n",
      "torch.Size([8192, 3, 32, 32])\n",
      "torch.Size([8192, 3, 32, 32])\n",
      "torch.Size([8192, 3, 32, 32])\n"
     ]
    },
    {
     "name": "stderr",
     "output_type": "stream",
     "text": [
      " 97%|█████████▋| 31/32 [00:56<00:01,  1.83s/it]"
     ]
    },
    {
     "name": "stdout",
     "output_type": "stream",
     "text": [
      "torch.Size([8192, 3, 32, 32])\n",
      "torch.Size([848, 3, 32, 32])\n",
      "torch.Size([8192, 3, 32, 32])\n",
      "torch.Size([8192, 3, 32, 32])\n",
      "torch.Size([8192, 3, 32, 32])\n",
      "torch.Size([8192, 3, 32, 32])\n",
      "torch.Size([8192, 3, 32, 32])\n"
     ]
    },
    {
     "name": "stderr",
     "output_type": "stream",
     "text": [
      "100%|██████████| 32/32 [00:58<00:00,  1.83s/it]"
     ]
    },
    {
     "name": "stdout",
     "output_type": "stream",
     "text": [
      "torch.Size([8192, 3, 32, 32])\n",
      "torch.Size([848, 3, 32, 32])\n"
     ]
    },
    {
     "name": "stderr",
     "output_type": "stream",
     "text": [
      "\n"
     ]
    }
   ],
   "source": [
    "losses, loss_means = trainer(model, True)"
   ]
  },
  {
   "cell_type": "code",
   "execution_count": null,
   "metadata": {},
   "outputs": [],
   "source": [
    "plot_losses(losses)"
   ]
  },
  {
   "cell_type": "code",
   "execution_count": 60,
   "metadata": {},
   "outputs": [
    {
     "name": "stdout",
     "output_type": "stream",
     "text": [
      "Validation Loss: 2.078958034515381\n",
      "Precision: 0.264\n",
      "Recall: 0.264\n",
      "F1 Score: 0.264\n",
      "Confusion Matrix:  [[520  54  27  13  12  55  45  55 219   0]\n",
      " [ 54 264  13  49  16 101 203  68 232   0]\n",
      " [125  56  80 110  30 156 254 100  89   0]\n",
      " [ 40  59  45 112  19 278 255 128  64   0]\n",
      " [ 43  51  46  82  49 186 355 122  66   0]\n",
      " [ 36  46  57 105  17 326 196 137  80   0]\n",
      " [ 21  52  20  69   9 128 567 110  24   0]\n",
      " [ 38 103  50  71  15 151 188 307  77   0]\n",
      " [294 100   6  18   6 106  31  24 415   0]\n",
      " [ 68 223  17  23   8  52 147 141 321   0]]\n"
     ]
    }
   ],
   "source": [
    "test_model(model)"
   ]
  }
 ],
 "metadata": {
  "kernelspec": {
   "display_name": "pytorch_1.3",
   "language": "python",
   "name": "python3"
  },
  "language_info": {
   "codemirror_mode": {
    "name": "ipython",
    "version": 3
   },
   "file_extension": ".py",
   "mimetype": "text/x-python",
   "name": "python",
   "nbconvert_exporter": "python",
   "pygments_lexer": "ipython3",
   "version": "3.10.8"
  },
  "orig_nbformat": 4,
  "vscode": {
   "interpreter": {
    "hash": "c6a263086846ea0a3fcddfd46d624ed79a8d94e93ffdab254f7342d5d1c9c001"
   }
  }
 },
 "nbformat": 4,
 "nbformat_minor": 2
}
